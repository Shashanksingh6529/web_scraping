{
 "cells": [
  {
   "cell_type": "code",
   "execution_count": null,
   "id": "89711d5b-92be-46cf-97e7-01a64b269ec3",
   "metadata": {},
   "outputs": [],
   "source": [
    "\n",
    "Q2. What are the different methods used for Web Scraping?\n",
    "There are several methods for web scraping, including:\n",
    "\n",
    "Manual Scraping: Manually copying and pasting data from websites.\n",
    "Using Web Scraping Tools: Utilizing software or online services designed for web scraping.\n",
    "Writing Custom Scripts: Developing scripts or programs using programming languages like Python, JavaScript, or Ruby to automate the scraping process.\n",
    "APIs: Some websites provide APIs (Application Programming Interfaces) to access their data directly, which can be an alternative to scraping.\n",
    "Q3. What is Beautiful Soup? Why is it used?\n",
    "Beautiful Soup is a Python library used for web scraping. It provides tools for parsing HTML and XML documents, navigating the parsed tree, and extracting data. Beautiful Soup is commonly used for its simplicity, flexibility, and powerful features, making it easier to scrape data from web pages compared to manual methods or raw parsing."
   ]
  },
  {
   "cell_type": "markdown",
   "id": "1bf87aea-8f3c-4dec-b4e1-7d7a440e8e6d",
   "metadata": {},
   "source": [
    "Q1. What is Web Scraping? Why is it Used? Give three areas where Web Scraping is used to get data."
   ]
  },
  {
   "cell_type": "code",
   "execution_count": 1,
   "id": "52269c70-363d-43df-8444-1dc0eb1b8ec8",
   "metadata": {},
   "outputs": [
    {
     "data": {
      "text/plain": [
       "'Market Research: Collecting information about consumer trends, reviews, or sentiment analysis.'"
      ]
     },
     "execution_count": 1,
     "metadata": {},
     "output_type": "execute_result"
    }
   ],
   "source": [
    "\"Web scraping is the process of extracting data from websites. It involves fetching and parsing HTML content from web pages and extracting the desired information. Web scraping is used for various purposes including:\"\n",
    "\n",
    "\"Data Collection: Gathering data from websites for analysis, research, or other purposes.\"\n",
    "\"Competitive Intelligence: Monitoring competitors' prices, products, or strategies.\"\n",
    "\"Market Research: Collecting information about consumer trends, reviews, or sentiment analysis.\""
   ]
  },
  {
   "cell_type": "markdown",
   "id": "2d6e84f5-ccfa-46e4-913b-6d377e9403e7",
   "metadata": {},
   "source": [
    "Q2. What are the different methods used for Web Scraping?"
   ]
  },
  {
   "cell_type": "code",
   "execution_count": null,
   "id": "58e3422d-3d18-48a8-b695-422947faa15e",
   "metadata": {},
   "outputs": [],
   "source": []
  }
 ],
 "metadata": {
  "kernelspec": {
   "display_name": "Python 3 (ipykernel)",
   "language": "python",
   "name": "python3"
  },
  "language_info": {
   "codemirror_mode": {
    "name": "ipython",
    "version": 3
   },
   "file_extension": ".py",
   "mimetype": "text/x-python",
   "name": "python",
   "nbconvert_exporter": "python",
   "pygments_lexer": "ipython3",
   "version": "3.10.8"
  }
 },
 "nbformat": 4,
 "nbformat_minor": 5
}
